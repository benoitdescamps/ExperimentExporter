{
 "cells": [
  {
   "cell_type": "code",
   "execution_count": 72,
   "metadata": {},
   "outputs": [],
   "source": [
    "import pandas as pd\n",
    "from datetime import datetime as dt\n",
    "from flask import jsonify\n",
    "\n",
    "class ExperimentExporter():\n",
    "    '''\n",
    "    Make a log book of the evolution of the properties and performance of the model\n",
    "    in time.\n",
    "    This is supposed to help streamline the work of the team and help visualize \n",
    "    the progress\n",
    "    '''\n",
    "    def __init__(self,title_project):\n",
    "        self.title_project = title_project \n",
    "        self.log = []\n",
    "    def updateLog(self,model,X_train,X_test,metrics_values):\n",
    "        self.log+=[{\n",
    "            'timestamp': str(dt.now()),\n",
    "            'model_properties':model.get_params(),\n",
    "            'data_properties':{\\\n",
    "                               'N_features':X_train.shape[0],\n",
    "                               'Train_size': X_train.shape[1],\n",
    "                               'Test_size':X_test.shape[0],\n",
    "                               'Features':list(X_train.columns)\n",
    "                                },\n",
    "            'metrics':metrics_values\n",
    "        }]\n",
    "    def getLog(self):\n",
    "        return (self.log)\n",
    "        "
   ]
  },
  {
   "cell_type": "code",
   "execution_count": 73,
   "metadata": {
    "collapsed": true
   },
   "outputs": [],
   "source": [
    "N = 1000\n",
    "n = 10\n",
    "X = np.random.randn(N,n)\n",
    "y = np.random.randn(N,)"
   ]
  },
  {
   "cell_type": "code",
   "execution_count": 74,
   "metadata": {},
   "outputs": [],
   "source": [
    "reg = XGBRegressor()\n",
    "\n",
    "reg.fit(X,y)\n",
    "\n",
    "from sklearn.metrics import r2_score\n",
    "rsquared = r2_score(y,reg.predict(X))"
   ]
  },
  {
   "cell_type": "code",
   "execution_count": 75,
   "metadata": {
    "collapsed": true
   },
   "outputs": [],
   "source": [
    "df = pd.DataFrame(X)"
   ]
  },
  {
   "cell_type": "code",
   "execution_count": 76,
   "metadata": {},
   "outputs": [],
   "source": [
    "myexporter = ExperimentExporter('new_project')"
   ]
  },
  {
   "cell_type": "code",
   "execution_count": 77,
   "metadata": {},
   "outputs": [],
   "source": [
    "myexporter.updateLog(reg,df,df,{'r2_score':rsquared})"
   ]
  },
  {
   "cell_type": "code",
   "execution_count": 78,
   "metadata": {},
   "outputs": [
    {
     "data": {
      "text/plain": [
       "[{'data_properties': {'Features': [0, 1, 2, 3, 4, 5, 6, 7, 8, 9],\n",
       "   'N_features': 1000,\n",
       "   'Test_size': 1000,\n",
       "   'Train_size': 10},\n",
       "  'metrics': {'r2_score': 0.35441905283748631},\n",
       "  'model_properties': {'base_score': 0.5,\n",
       "   'colsample_bylevel': 1,\n",
       "   'colsample_bytree': 1,\n",
       "   'gamma': 0,\n",
       "   'learning_rate': 0.1,\n",
       "   'max_delta_step': 0,\n",
       "   'max_depth': 3,\n",
       "   'min_child_weight': 1,\n",
       "   'missing': None,\n",
       "   'n_estimators': 100,\n",
       "   'nthread': -1,\n",
       "   'objective': 'reg:linear',\n",
       "   'reg_alpha': 0,\n",
       "   'reg_lambda': 1,\n",
       "   'scale_pos_weight': 1,\n",
       "   'seed': 0,\n",
       "   'silent': True,\n",
       "   'subsample': 1},\n",
       "  'timestamp': '2017-08-17 13:01:16.191035'}]"
      ]
     },
     "execution_count": 78,
     "metadata": {},
     "output_type": "execute_result"
    }
   ],
   "source": [
    "(myexporter.log)"
   ]
  },
  {
   "cell_type": "code",
   "execution_count": null,
   "metadata": {
    "collapsed": true
   },
   "outputs": [],
   "source": []
  }
 ],
 "metadata": {
  "kernelspec": {
   "display_name": "Python 3",
   "language": "python",
   "name": "python3"
  },
  "language_info": {
   "codemirror_mode": {
    "name": "ipython",
    "version": 3
   },
   "file_extension": ".py",
   "mimetype": "text/x-python",
   "name": "python",
   "nbconvert_exporter": "python",
   "pygments_lexer": "ipython3",
   "version": "3.5.3"
  }
 },
 "nbformat": 4,
 "nbformat_minor": 2
}
